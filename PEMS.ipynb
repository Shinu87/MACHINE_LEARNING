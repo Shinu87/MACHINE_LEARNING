{
  "cells": [
    {
      "cell_type": "code",
      "execution_count": 78,
      "metadata": {
        "id": "ffgA9S5X0Qvr"
      },
      "outputs": [],
      "source": [
        "import pandas as pd\n",
        "from sklearn.model_selection import train_test_split\n",
        "from sklearn.linear_model import LogisticRegression\n",
        "from sklearn.metrics import classification_report,confusion_matrix,accuracy_score\n",
        "import matplotlib.pyplot as plt\n",
        "import seaborn as sns"
      ]
    },
    {
      "cell_type": "code",
      "execution_count": 79,
      "metadata": {
        "id": "RlYdh-1U2vyd"
      },
      "outputs": [],
      "source": [
        "df = pd.read_csv('/content/drive/MyDrive/Colab Notebooks/PEMS.csv')"
      ]
    },
    {
      "cell_type": "markdown",
      "metadata": {
        "id": "b6TY4bh22TCy"
      },
      "source": []
    },
    {
      "cell_type": "code",
      "execution_count": 80,
      "metadata": {
        "colab": {
          "base_uri": "https://localhost:8080/"
        },
        "id": "O751GQ-p21EP",
        "outputId": "283ad687-baca-41ba-b99b-5e29d4c7bc50"
      },
      "outputs": [
        {
          "output_type": "stream",
          "name": "stdout",
          "text": [
            "   Unnamed: 0      AT      AP      AH    AFDP    GTEP     TIT     TAT     TEY  \\\n",
            "0           1  4.5878  1018.7  83.675  3.5758  23.979  1086.2  549.83  134.67   \n",
            "1           2  4.2932  1018.3  84.235  3.5709  23.951  1086.1  550.05  134.67   \n",
            "2           3  3.9045  1018.4  84.858  3.5828  23.990  1086.5  550.19  135.10   \n",
            "3           4  3.7436  1018.3  85.434  3.5808  23.911  1086.5  550.17  135.03   \n",
            "4           5  3.7516  1017.8  85.182  3.5781  23.917  1085.9  550.00  134.67   \n",
            "\n",
            "      CDP       CO     NOX  \n",
            "0  11.898  0.32663  81.952  \n",
            "1  11.892  0.44784  82.377  \n",
            "2  12.042  0.45144  83.776  \n",
            "3  11.990  0.23107  82.505  \n",
            "4  11.910  0.26747  82.028  \n",
            "       AT      AP      AH    AFDP    GTEP     TIT     TAT     TEY     CDP  \\\n",
            "0  4.5878  1018.7  83.675  3.5758  23.979  1086.2  549.83  134.67  11.898   \n",
            "1  4.2932  1018.3  84.235  3.5709  23.951  1086.1  550.05  134.67  11.892   \n",
            "2  3.9045  1018.4  84.858  3.5828  23.990  1086.5  550.19  135.10  12.042   \n",
            "3  3.7436  1018.3  85.434  3.5808  23.911  1086.5  550.17  135.03  11.990   \n",
            "4  3.7516  1017.8  85.182  3.5781  23.917  1085.9  550.00  134.67  11.910   \n",
            "\n",
            "        CO     NOX  \n",
            "0  0.32663  81.952  \n",
            "1  0.44784  82.377  \n",
            "2  0.45144  83.776  \n",
            "3  0.23107  82.505  \n",
            "4  0.26747  82.028  \n"
          ]
        }
      ],
      "source": [
        "print(df.head())\n",
        "df=df.drop(\"Unnamed: 0\", axis=1)\n",
        "print(df.head())"
      ]
    },
    {
      "cell_type": "markdown",
      "metadata": {
        "id": "4wWp9u24311I"
      },
      "source": [
        "\n",
        "\n",
        "*   AT: Ambient Temperature (°C)\n",
        "*   AP: Ambient Pressure (mbar)\n",
        "*   AH: Ambient Humidity (%)\n",
        "*   AFDP: Air Filter Difference Pressure (mbar)\n",
        "*   GTEP: Gas Turbine Exhaust Pressure (mbar)\n",
        "*   TIT: Turbine Inlet Temperature (°C)\n",
        "*   TAT: Turbine After Temperature (°C)\n",
        "*   CDP: Compressor Discharge Pressure (mbar)\n",
        "*   TEY: Turbine Energy Yield (MWH)\n",
        "*   CO: Carbon Monoxide (mg/m³)\n",
        "*   NOx: Nitrogen Oxides (mg/m³)\n",
        "\n",
        "\n",
        "\n",
        "\n",
        "\n",
        "\n",
        "\n",
        "\n",
        "\n",
        "\n",
        "\n",
        "\n",
        "\n",
        "\n",
        "\n"
      ]
    },
    {
      "cell_type": "code",
      "execution_count": 81,
      "metadata": {
        "colab": {
          "base_uri": "https://localhost:8080/"
        },
        "id": "gjhpgWHm2300",
        "outputId": "f15a12e5-c4eb-45b9-ec7f-00488c4deaa3"
      },
      "outputs": [
        {
          "output_type": "stream",
          "name": "stdout",
          "text": [
            "<class 'pandas.core.frame.DataFrame'>\n",
            "RangeIndex: 36733 entries, 0 to 36732\n",
            "Data columns (total 11 columns):\n",
            " #   Column  Non-Null Count  Dtype  \n",
            "---  ------  --------------  -----  \n",
            " 0   AT      36733 non-null  float64\n",
            " 1   AP      36733 non-null  float64\n",
            " 2   AH      36733 non-null  float64\n",
            " 3   AFDP    36733 non-null  float64\n",
            " 4   GTEP    36733 non-null  float64\n",
            " 5   TIT     36733 non-null  float64\n",
            " 6   TAT     36733 non-null  float64\n",
            " 7   TEY     36733 non-null  float64\n",
            " 8   CDP     36733 non-null  float64\n",
            " 9   CO      36733 non-null  float64\n",
            " 10  NOX     36733 non-null  float64\n",
            "dtypes: float64(11)\n",
            "memory usage: 3.1 MB\n",
            "None\n",
            "                 AT            AP            AH          AFDP          GTEP  \\\n",
            "count  36733.000000  36733.000000  36733.000000  36733.000000  36733.000000   \n",
            "mean      17.712726   1013.070165     77.867015      3.925518     25.563801   \n",
            "std        7.447451      6.463346     14.461355      0.773936      4.195957   \n",
            "min       -6.234800    985.850000     24.085000      2.087400     17.698000   \n",
            "25%       11.781000   1008.800000     68.188000      3.355600     23.129000   \n",
            "50%       17.801000   1012.600000     80.470000      3.937700     25.104000   \n",
            "75%       23.665000   1017.000000     89.376000      4.376900     29.061000   \n",
            "max       37.103000   1036.600000    100.200000      7.610600     40.716000   \n",
            "\n",
            "                TIT           TAT           TEY           CDP            CO  \\\n",
            "count  36733.000000  36733.000000  36733.000000  36733.000000  36733.000000   \n",
            "mean    1081.428084    546.158517    133.506404     12.060525      2.372468   \n",
            "std       17.536373      6.842360     15.618634      1.088795      2.262672   \n",
            "min     1000.800000    511.040000    100.020000      9.851800      0.000388   \n",
            "25%     1071.800000    544.720000    124.450000     11.435000      1.182400   \n",
            "50%     1085.900000    549.880000    133.730000     11.965000      1.713500   \n",
            "75%     1097.000000    550.040000    144.080000     12.855000      2.842900   \n",
            "max     1100.900000    550.610000    179.500000     15.159000     44.103000   \n",
            "\n",
            "                NOX  \n",
            "count  36733.000000  \n",
            "mean      65.293067  \n",
            "std       11.678357  \n",
            "min       25.905000  \n",
            "25%       57.162000  \n",
            "50%       63.849000  \n",
            "75%       71.548000  \n",
            "max      119.910000  \n"
          ]
        }
      ],
      "source": [
        "print(df.info())\n",
        "print(df.describe())"
      ]
    },
    {
      "cell_type": "code",
      "execution_count": 82,
      "metadata": {
        "colab": {
          "base_uri": "https://localhost:8080/"
        },
        "id": "lgJQPOi45_Wo",
        "outputId": "3b5da4c2-ad3f-452a-826b-88ce38746a0b"
      },
      "outputs": [
        {
          "output_type": "stream",
          "name": "stdout",
          "text": [
            "           AT      AP      AH    AFDP    GTEP     TIT     TAT     TEY     CDP\n",
            "0      4.5878  1018.7  83.675  3.5758  23.979  1086.2  549.83  134.67  11.898\n",
            "1      4.2932  1018.3  84.235  3.5709  23.951  1086.1  550.05  134.67  11.892\n",
            "2      3.9045  1018.4  84.858  3.5828  23.990  1086.5  550.19  135.10  12.042\n",
            "3      3.7436  1018.3  85.434  3.5808  23.911  1086.5  550.17  135.03  11.990\n",
            "4      3.7516  1017.8  85.182  3.5781  23.917  1085.9  550.00  134.67  11.910\n",
            "...       ...     ...     ...     ...     ...     ...     ...     ...     ...\n",
            "36728  3.6268  1028.5  93.200  3.1661  19.087  1037.0  541.59  109.08  10.411\n",
            "36729  4.1674  1028.6  94.036  3.1923  19.016  1037.6  542.28  108.79  10.344\n",
            "36730  5.4820  1028.5  95.219  3.3128  18.857  1038.0  543.48  107.81  10.462\n",
            "36731  5.8837  1028.7  94.200  3.9831  23.563  1076.9  550.11  131.41  11.771\n",
            "36732  6.0392  1028.8  94.547  3.8752  22.524  1067.9  548.23  125.41  11.462\n",
            "\n",
            "[36733 rows x 9 columns]\n",
            "             CO      NOX\n",
            "0       0.32663   81.952\n",
            "1       0.44784   82.377\n",
            "2       0.45144   83.776\n",
            "3       0.23107   82.505\n",
            "4       0.26747   82.028\n",
            "...         ...      ...\n",
            "36728  10.99300   89.172\n",
            "36729  11.14400   88.849\n",
            "36730  11.41400   96.147\n",
            "36731   3.31340   64.738\n",
            "36732  11.98100  109.240\n",
            "\n",
            "[36733 rows x 2 columns]\n"
          ]
        }
      ],
      "source": [
        "target_columns = ['CO','NOX']\n",
        "x = df.drop(target_columns,axis = 1)\n",
        "y = df[target_columns]\n",
        "print(x)\n",
        "print(y)"
      ]
    },
    {
      "cell_type": "code",
      "execution_count": 83,
      "metadata": {
        "id": "WuFt1ueh9Ikx"
      },
      "outputs": [],
      "source": [
        "X_train,X_test,y_train,y_test = train_test_split(x,y,test_size = 0.2,random_state = 42)"
      ]
    },
    {
      "cell_type": "code",
      "execution_count": 84,
      "metadata": {
        "colab": {
          "base_uri": "https://localhost:8080/",
          "height": 1000
        },
        "id": "8SSK-Hkvqjyy",
        "outputId": "d13dea71-07c3-4f22-f80d-1eae13edaa86"
      },
      "outputs": [
        {
          "output_type": "display_data",
          "data": {
            "text/plain": [
              "<Figure size 1400x800 with 2 Axes>"
            ],
            "image/png": "[encoded data removed]"
          },
          "metadata": {}
        },
        {
          "output_type": "stream",
          "name": "stdout",
          "text": [
            "            AT        AP        AH      AFDP      GTEP       TIT       TAT  \\\n",
            "AT    1.000000 -0.406601 -0.476291  0.251974  0.045851  0.183706  0.281869   \n",
            "AP   -0.406601  1.000000 -0.015184 -0.040363  0.057533 -0.005390 -0.225601   \n",
            "AH   -0.476291 -0.015184  1.000000 -0.147840 -0.235153 -0.221809  0.022965   \n",
            "AFDP  0.251974 -0.040363 -0.147840  1.000000  0.678485  0.691292 -0.466882   \n",
            "GTEP  0.045851  0.057533 -0.235153  0.678485  1.000000  0.874234 -0.699703   \n",
            "TIT   0.183706 -0.005390 -0.221809  0.691292  0.874234  1.000000 -0.380862   \n",
            "TAT   0.281869 -0.225601  0.022965 -0.466882 -0.699703 -0.380862  1.000000   \n",
            "TEY  -0.091152  0.118224 -0.137360  0.665483  0.964127  0.910297 -0.682396   \n",
            "CDP   0.015287  0.102636 -0.196275  0.702568  0.978470  0.908469 -0.706438   \n",
            "CO   -0.174326  0.067050  0.106586 -0.448425 -0.518909 -0.706275  0.058353   \n",
            "NOX  -0.558174  0.191938  0.164617 -0.188247 -0.201630 -0.213865 -0.092791   \n",
            "\n",
            "           TEY       CDP        CO       NOX  \n",
            "AT   -0.091152  0.015287 -0.174326 -0.558174  \n",
            "AP    0.118224  0.102636  0.067050  0.191938  \n",
            "AH   -0.137360 -0.196275  0.106586  0.164617  \n",
            "AFDP  0.665483  0.702568 -0.448425 -0.188247  \n",
            "GTEP  0.964127  0.978470 -0.518909 -0.201630  \n",
            "TIT   0.910297  0.908469 -0.706275 -0.213865  \n",
            "TAT  -0.682396 -0.706438  0.058353 -0.092791  \n",
            "TEY   1.000000  0.988778 -0.569813 -0.116127  \n",
            "CDP   0.988778  1.000000 -0.551027 -0.171256  \n",
            "CO   -0.569813 -0.551027  1.000000  0.340606  \n",
            "NOX  -0.116127 -0.171256  0.340606  1.000000  \n"
          ]
        }
      ],
      "source": [
        "correlation_matrix = df.corr()\n",
        "plt.figure(figsize=(14, 8))\n",
        "sns.heatmap(correlation_matrix, annot=True, cmap='coolwarm')\n",
        "plt.title('Correlation Matrix')\n",
        "plt.show()\n",
        "print(correlation_matrix)"
      ]
    },
    {
      "cell_type": "code",
      "execution_count": 85,
      "metadata": {
        "id": "cPCKbvFcxKV9"
      },
      "outputs": [],
      "source": [
        "from sklearn.preprocessing import StandardScaler\n",
        "scaler = StandardScaler()\n",
        "X_train = scaler.fit_transform(X_train)\n",
        "X_test = scaler.transform(X_test)"
      ]
    },
    {
      "cell_type": "code",
      "execution_count": 86,
      "metadata": {
        "id": "nxWgOG4A5N_b"
      },
      "outputs": [],
      "source": [
        "r2_scores_dict = {}"
      ]
    },
    {
      "cell_type": "markdown",
      "metadata": {
        "id": "Tzw5utxRETvl"
      },
      "source": [
        "# ***LinearRegression***"
      ]
    },
    {
      "cell_type": "code",
      "execution_count": 87,
      "metadata": {
        "colab": {
          "base_uri": "https://localhost:8080/"
        },
        "id": "KDyPrYpv9hbb",
        "outputId": "b182f043-e378-43c7-8b33-d77ba081c375"
      },
      "outputs": [
        {
          "output_type": "stream",
          "name": "stdout",
          "text": [
            "Mean Squared Error: 34.68781429438496\n",
            "R^2 Score: 0.5256556937335006\n",
            "Predictions: [[-2051.51589024 15444.68931339]]\n"
          ]
        }
      ],
      "source": [
        "from sklearn.metrics import mean_squared_error, r2_score\n",
        "from sklearn.multioutput import MultiOutputRegressor\n",
        "from sklearn.linear_model import LinearRegression\n",
        "import numpy as np\n",
        "from sklearn.linear_model import Ridge,Lasso\n",
        "\n",
        "\n",
        "# base_model = Lasso(alpha=3.0)\n",
        "base_model = LinearRegression()\n",
        "multi_output_model = MultiOutputRegressor(base_model)\n",
        "\n",
        "\n",
        "multi_output_model.fit(X_train, y_train)\n",
        "\n",
        "y_pred = multi_output_model.predict(X_test)\n",
        "\n",
        "mse = mean_squared_error(y_test, y_pred)\n",
        "r2 = r2_score(y_test, y_pred)\n",
        "print(\"Mean Squared Error:\", mse)\n",
        "print(\"R^2 Score:\", r2)\n",
        "r2_scores_dict['LinearRegression'] = r2\n",
        "import numpy as np\n",
        "new_data = np.array([[4.5878, 1018.7, 83.675, 3.5758, 23.979, 1086.2, 549.83, 134.67, 11.898]])\n",
        "predictions = multi_output_model.predict(new_data)\n",
        "print(\"Predictions:\", predictions)\n"
      ]
    },
    {
      "cell_type": "markdown",
      "metadata": {
        "id": "zGUd4GbcEImw"
      },
      "source": [
        "# ***DecisionTreeRegressor***"
      ]
    },
    {
      "cell_type": "code",
      "execution_count": 88,
      "metadata": {
        "colab": {
          "base_uri": "https://localhost:8080/"
        },
        "id": "kV8KTdBb_8gP",
        "outputId": "228d6513-6860-4cf4-b9f4-7f4671645b6d"
      },
      "outputs": [
        {
          "output_type": "stream",
          "name": "stdout",
          "text": [
            "Mean Squared Error: 18.777646903284946\n",
            "R^2 Score: 0.6224426072974889\n",
            "Predictions: [[ 2.0157 87.311 ]]\n"
          ]
        }
      ],
      "source": [
        "from sklearn.tree import DecisionTreeRegressor\n",
        "from sklearn.metrics import accuracy_score, classification_report\n",
        "from sklearn.multioutput import MultiOutputRegressor\n",
        "basemodel = DecisionTreeRegressor(random_state = 42)\n",
        "multi_output_model = MultiOutputRegressor(basemodel)\n",
        "multi_output_model.fit(X_train,y_train)\n",
        "from sklearn.metrics import mean_squared_error, r2_score\n",
        "y_pred = multi_output_model.predict(X_test)\n",
        "mse = mean_squared_error(y_test,y_pred)\n",
        "r2 = r2_score(y_test,y_pred)\n",
        "print(\"Mean Squared Error:\", mse)\n",
        "print(\"R^2 Score:\", r2)\n",
        "r2_scores_dict['DecisionTreeRegressor'] = r2\n",
        "\n",
        "import numpy as np\n",
        "new_data = np.array([[4.5878, 1018.7, 83.675, 3.5758, 23.979, 1086.2, 549.83, 134.67, 11.898]])\n",
        "predictions = multi_output_model.predict(new_data)\n",
        "print(\"Predictions:\", predictions)"
      ]
    },
    {
      "cell_type": "markdown",
      "metadata": {
        "id": "SIGNM1hTEp5Y"
      },
      "source": [
        "# ***RandomForestRegressor***"
      ]
    },
    {
      "cell_type": "code",
      "execution_count": 89,
      "metadata": {
        "colab": {
          "base_uri": "https://localhost:8080/"
        },
        "id": "csAsRbb1D3se",
        "outputId": "5d3ca57b-5e7c-4a07-feb1-a366ba913c28"
      },
      "outputs": [
        {
          "output_type": "stream",
          "name": "stdout",
          "text": [
            "Mean Squared Error: 13.55471716002837\n",
            "R^2 Score: 0.7799330992316401\n",
            "Predictions: [[ 1.60897138 64.95790003]]\n"
          ]
        }
      ],
      "source": [
        "from sklearn.ensemble import RandomForestRegressor\n",
        "from sklearn.multioutput import MultiOutputRegressor\n",
        "basemodel = RandomForestRegressor(n_estimators=100, max_depth=10, max_features='sqrt', random_state=42, n_jobs=-1)\n",
        "multi_output_model = MultiOutputRegressor(basemodel)\n",
        "multi_output_model.fit(X_train,y_train)\n",
        "from sklearn.metrics import mean_squared_error, r2_score\n",
        "y_pred = multi_output_model.predict(X_test)\n",
        "mse = mean_squared_error(y_test,y_pred)\n",
        "r2 = r2_score(y_test,y_pred)\n",
        "print(\"Mean Squared Error:\", mse)\n",
        "print(\"R^2 Score:\", r2)\n",
        "r2_scores_dict['RandomForestRegressor'] = r2\n",
        "\n",
        "import numpy as np\n",
        "new_data = np.array([[4.5878, 1018.7, 83.675, 3.5758, 23.979, 1086.2, 549.83, 134.67, 11.898]])\n",
        "predictions = multi_output_model.predict(new_data)\n",
        "print(\"Predictions:\", predictions)"
      ]
    },
    {
      "cell_type": "markdown",
      "metadata": {
        "id": "ucCWbmqpwX1X"
      },
      "source": [
        "# ***ExtraTreesRegressor***"
      ]
    },
    {
      "cell_type": "code",
      "execution_count": 90,
      "metadata": {
        "colab": {
          "base_uri": "https://localhost:8080/"
        },
        "id": "boXGsiqewdJG",
        "outputId": "56861759-0a0f-43d6-936d-a2fddceb5a6c"
      },
      "outputs": [
        {
          "output_type": "stream",
          "name": "stdout",
          "text": [
            "Mean Squared Error: 7.780541428960984\n",
            "R^2 Score: 0.844934439801728\n",
            "Predictions: [[ 1.39392446 63.03068   ]]\n"
          ]
        }
      ],
      "source": [
        "from sklearn.ensemble import ExtraTreesRegressor\n",
        "from sklearn.multioutput import MultiOutputRegressor\n",
        "basemodel = ExtraTreesRegressor(random_state = 42)\n",
        "multi_output_model = MultiOutputRegressor(basemodel)\n",
        "multi_output_model.fit(X_train,y_train)\n",
        "from sklearn.metrics import mean_squared_error, r2_score\n",
        "y_pred = multi_output_model.predict(X_test)\n",
        "mse = mean_squared_error(y_test,y_pred)\n",
        "r2 = r2_score(y_test,y_pred)\n",
        "print(\"Mean Squared Error:\", mse)\n",
        "print(\"R^2 Score:\", r2)\n",
        "r2_scores_dict['ExtraTreesRegressor'] = r2\n",
        "\n",
        "import numpy as np\n",
        "new_data = np.array([[4.5878, 1018.7, 83.675, 3.5758, 23.979, 1086.2, 549.83, 134.67, 11.898]])\n",
        "predictions = multi_output_model.predict(new_data)\n",
        "print(\"Predictions:\", predictions)"
      ]
    },
    {
      "cell_type": "markdown",
      "metadata": {
        "id": "o4YyD-xfKIe7"
      },
      "source": [
        "# ***Support Vector Regressor(SVR)***"
      ]
    },
    {
      "cell_type": "code",
      "execution_count": 91,
      "metadata": {
        "colab": {
          "base_uri": "https://localhost:8080/"
        },
        "id": "YAxllHfJI0im",
        "outputId": "3e140b90-e660-4a5d-9c14-07221b0e85fa"
      },
      "outputs": [
        {
          "output_type": "stream",
          "name": "stdout",
          "text": [
            "Mean Squared Error: 16.955835644163617\n",
            "R^2 Score: 0.716486607526251\n"
          ]
        }
      ],
      "source": [
        "from sklearn.svm import SVR\n",
        "from sklearn.multioutput import MultiOutputRegressor\n",
        "from sklearn.metrics import mean_squared_error, r2_score\n",
        "base_model = SVR(kernel='rbf')\n",
        "multi_output_model = MultiOutputRegressor(base_model)\n",
        "\n",
        "multi_output_model.fit(X_train, y_train)\n",
        "\n",
        "y_pred = multi_output_model.predict(X_test)\n",
        "\n",
        "mse = mean_squared_error(y_test, y_pred)\n",
        "r2 = r2_score(y_test, y_pred)\n",
        "r2_scores_dict['SVR'] = r2\n",
        "\n",
        "print(\"Mean Squared Error:\", mse)\n",
        "print(\"R^2 Score:\", r2)\n"
      ]
    },
    {
      "cell_type": "markdown",
      "metadata": {
        "id": "9MzMmAQi1_kL"
      },
      "source": [
        "# **XGBRegressor**"
      ]
    },
    {
      "cell_type": "code",
      "execution_count": 92,
      "metadata": {
        "colab": {
          "base_uri": "https://localhost:8080/"
        },
        "id": "M0rEO-cE1tlT",
        "outputId": "c4c96f92-5c46-4801-922c-73f73d7bfa31"
      },
      "outputs": [
        {
          "output_type": "stream",
          "name": "stdout",
          "text": [
            "Mean Squared Error: 9.981299634521339\n",
            "R^2 Score: 0.8076959368554164\n",
            "Predictions: [[ 2.3749511 91.82713  ]]\n"
          ]
        }
      ],
      "source": [
        "from xgboost import XGBRegressor\n",
        "from sklearn.multioutput import MultiOutputRegressor\n",
        "basemodel = XGBRegressor()\n",
        "multi_output_model = MultiOutputRegressor(basemodel)\n",
        "multi_output_model.fit(X_train,y_train)\n",
        "from sklearn.metrics import mean_squared_error , r2_score\n",
        "y_pred = multi_output_model.predict(X_test)\n",
        "mse = mean_squared_error(y_test,y_pred)\n",
        "r2 = r2_score(y_test,y_pred)\n",
        "print(\"Mean Squared Error:\", mse)\n",
        "print(\"R^2 Score:\", r2)\n",
        "r2_scores_dict['XGBRegressor'] = r2\n",
        "\n",
        "\n",
        "import numpy as np\n",
        "new_data = np.array([[4.5878, 1018.7, 83.675, 3.5758, 23.979, 1086.2, 549.83, 134.67, 11.898]])\n",
        "predictions = multi_output_model.predict(new_data)\n",
        "print(\"Predictions:\", predictions)"
      ]
    },
    {
      "cell_type": "markdown",
      "metadata": {
        "id": "dK3HeuXk1tT4"
      },
      "source": []
    },
    {
      "cell_type": "markdown",
      "metadata": {
        "id": "IppDJbWwhfOe"
      },
      "source": [
        "# ***K-Nearest Neighbors (KNN)***"
      ]
    },
    {
      "cell_type": "code",
      "execution_count": 93,
      "metadata": {
        "colab": {
          "base_uri": "https://localhost:8080/"
        },
        "id": "RSxzJNuVhqT0",
        "outputId": "4c264f7d-e857-4fe7-ccf1-ab53d93abb38"
      },
      "outputs": [
        {
          "output_type": "stream",
          "name": "stdout",
          "text": [
            "Mean Squared Error: 10.256935457966932\n",
            "R^2 Score: 0.8089922027911296\n",
            "Predictions: [[ 1.701678 72.0032  ]]\n"
          ]
        }
      ],
      "source": [
        "from sklearn.neighbors import KNeighborsRegressor\n",
        "from sklearn.multioutput import MultiOutputRegressor\n",
        "basemodel = KNeighborsRegressor()\n",
        "multi_output_model = MultiOutputRegressor(basemodel)\n",
        "multi_output_model.fit(X_train,y_train)\n",
        "from sklearn.metrics import mean_squared_error , r2_score\n",
        "y_pred = multi_output_model.predict(X_test)\n",
        "mse = mean_squared_error(y_test,y_pred)\n",
        "r2 = r2_score(y_test,y_pred)\n",
        "print(\"Mean Squared Error:\", mse)\n",
        "print(\"R^2 Score:\", r2)\n",
        "r2_scores_dict['KNeighborsRegressor'] = r2\n",
        "\n",
        "\n",
        "import numpy as np\n",
        "new_data = np.array([[4.5878, 1018.7, 83.675, 3.5758, 23.979, 1086.2, 549.83, 134.67, 11.898]])\n",
        "predictions = multi_output_model.predict(new_data)\n",
        "print(\"Predictions:\", predictions)"
      ]
    },
    {
      "cell_type": "markdown",
      "metadata": {
        "id": "MBrVY-i7jInf"
      },
      "source": [
        "# ***GradientBoostingRegressor***"
      ]
    },
    {
      "cell_type": "code",
      "execution_count": 94,
      "metadata": {
        "colab": {
          "base_uri": "https://localhost:8080/"
        },
        "id": "5hQixH6Hi4uq",
        "outputId": "cd8216c1-e9a7-4350-e7fa-dfbc396c36e2"
      },
      "outputs": [
        {
          "output_type": "stream",
          "name": "stdout",
          "text": [
            "Mean Squared Error: 18.14391398562279\n",
            "R^2 Score: 0.7256152498161009\n",
            "Predictions: [[ 1.69695409 62.88688015]]\n"
          ]
        }
      ],
      "source": [
        "from sklearn.ensemble import GradientBoostingRegressor\n",
        "from sklearn.multioutput import MultiOutputRegressor\n",
        "from sklearn.metrics import mean_squared_error, r2_score\n",
        "\n",
        "base_model = GradientBoostingRegressor(random_state=42)\n",
        "\n",
        "multi_output_model = MultiOutputRegressor(base_model)\n",
        "multi_output_model.fit(X_train, y_train)\n",
        "\n",
        "y_pred = multi_output_model.predict(X_test)\n",
        "\n",
        "mse = mean_squared_error(y_test, y_pred)\n",
        "r2 = r2_score(y_test, y_pred)\n",
        "\n",
        "\n",
        "print(\"Mean Squared Error:\", mse)\n",
        "print(\"R^2 Score:\", r2)\n",
        "r2_scores_dict['GradientBoostingRegressor'] = r2\n",
        "\n",
        "\n",
        "import numpy as np\n",
        "new_data = np.array([[4.5878, 1018.7, 83.675, 3.5758, 23.979, 1086.2, 549.83, 134.67, 11.898]])\n",
        "predictions = multi_output_model.predict(new_data)\n",
        "print(\"Predictions:\", predictions)"
      ]
    },
    {
      "cell_type": "markdown",
      "metadata": {
        "id": "Pa1C6Wj0jvy_"
      },
      "source": [
        "# ***NEURAL NETWORK***"
      ]
    },
    {
      "cell_type": "code",
      "execution_count": 95,
      "metadata": {
        "colab": {
          "base_uri": "https://localhost:8080/"
        },
        "id": "79u6M1apjS7V",
        "outputId": "fd5cab41-61f2-4f4f-d7d7-ab75d432be3b"
      },
      "outputs": [
        {
          "output_type": "stream",
          "name": "stdout",
          "text": [
            "Epoch 1/10\n",
            "735/735 [==============================] - 3s 2ms/step - loss: 453.6534 - val_loss: 40.0998\n",
            "Epoch 2/10\n",
            "735/735 [==============================] - 2s 3ms/step - loss: 162.0300 - val_loss: 41.0107\n",
            "Epoch 3/10\n",
            "735/735 [==============================] - 3s 4ms/step - loss: 154.9297 - val_loss: 34.9417\n",
            "Epoch 4/10\n",
            "735/735 [==============================] - 2s 3ms/step - loss: 147.3121 - val_loss: 32.2202\n",
            "Epoch 5/10\n",
            "735/735 [==============================] - 2s 2ms/step - loss: 143.5498 - val_loss: 30.2230\n",
            "Epoch 6/10\n",
            "735/735 [==============================] - 2s 2ms/step - loss: 140.7995 - val_loss: 24.0151\n",
            "Epoch 7/10\n",
            "735/735 [==============================] - 2s 2ms/step - loss: 139.9839 - val_loss: 32.6617\n",
            "Epoch 8/10\n",
            "735/735 [==============================] - 2s 2ms/step - loss: 133.5225 - val_loss: 32.1611\n",
            "Epoch 9/10\n",
            "735/735 [==============================] - 2s 2ms/step - loss: 132.0078 - val_loss: 32.5503\n",
            "Epoch 10/10\n",
            "735/735 [==============================] - 2s 3ms/step - loss: 130.2620 - val_loss: 28.7970\n",
            "230/230 [==============================] - 0s 2ms/step\n",
            "Mean Squared Error: 28.660347087261357\n",
            "R^2 Score: 0.33803408006212154\n",
            "1/1 [==============================] - 0s 22ms/step\n",
            "Predictions: [[ 2.6422005 77.732216 ]]\n"
          ]
        },
        {
          "output_type": "stream",
          "name": "stderr",
          "text": [
            "/usr/local/lib/python3.10/dist-packages/sklearn/base.py:439: UserWarning: X does not have valid feature names, but StandardScaler was fitted with feature names\n",
            "  warnings.warn(\n"
          ]
        }
      ],
      "source": [
        "import tensorflow as tf\n",
        "from sklearn.preprocessing import StandardScaler\n",
        "from tensorflow.keras.models import Sequential\n",
        "from tensorflow.keras.layers import Dense,Dropout\n",
        "from tensorflow.keras.optimizers import Adam\n",
        "from tensorflow.keras.losses import MeanSquaredError\n",
        "from tensorflow.keras.metrics import RootMeanSquaredError\n",
        "\n",
        "model = Sequential()\n",
        "model.add(Dense(64, input_dim=X_train.shape[1], activation='relu'))\n",
        "model.add(Dropout(0.2))\n",
        "model.add(Dense(32, activation='relu'))\n",
        "model.add(Dropout(0.2))\n",
        "model.add(Dense(16, activation='relu'))\n",
        "model.add(Dropout(0.3))\n",
        "model.add(Dense(y_train.shape[1]))\n",
        "\n",
        "model.compile(loss='mean_squared_error', optimizer=Adam(learning_rate=0.001))\n",
        "\n",
        "model.fit(X_train, y_train, epochs=10, batch_size=32, validation_split=0.2, verbose=1)\n",
        "\n",
        "y_pred = model.predict(X_test)\n",
        "\n",
        "mse_value = mean_squared_error(y_test, y_pred)\n",
        "r2_value = r2_score(y_test, y_pred)\n",
        "\n",
        "print(\"Mean Squared Error:\", mse_value)\n",
        "print(\"R^2 Score:\", r2_value)\n",
        "r2_scores_dict['NEURALNETWORK'] = r2\n",
        "\n",
        "import numpy as np\n",
        "scaler = StandardScaler()\n",
        "X_scaled = scaler.fit_transform(x)\n",
        "new_data = np.array([[ 4.5878, 1018.7, 83.675, 3.5758, 23.979, 1086.2, 549.83, 134.67, 11.898]])\n",
        "new_data_scaled = scaler.transform(new_data)\n",
        "predictions = model.predict(new_data_scaled)\n",
        "print(\"Predictions:\", predictions)"
      ]
    },
    {
      "cell_type": "code",
      "execution_count": 96,
      "metadata": {
        "colab": {
          "base_uri": "https://localhost:8080/"
        },
        "id": "Glf3tHNOk149",
        "outputId": "d300f1ad-e714-4ea6-8fe4-370d1aab913c"
      },
      "outputs": [
        {
          "output_type": "stream",
          "name": "stdout",
          "text": [
            "LinearRegression: 0.5256556937335006\n",
            "DecisionTreeRegressor: 0.6224426072974889\n",
            "RandomForestRegressor: 0.7799330992316401\n",
            "ExtraTreesRegressor: 0.844934439801728\n",
            "SVR: 0.716486607526251\n",
            "XGBRegressor: 0.8076959368554164\n",
            "KNeighborsRegressor: 0.8089922027911296\n",
            "GradientBoostingRegressor: 0.7256152498161009\n",
            "NEURALNETWORK: 0.7256152498161009\n"
          ]
        }
      ],
      "source": [
        "for model, r2_score in r2_scores_dict.items():\n",
        "    print(f\"{model}: {r2_score}\")"
      ]
    },
    {
      "cell_type": "code",
      "execution_count": 103,
      "metadata": {
        "colab": {
          "base_uri": "https://localhost:8080/"
        },
        "id": "GAeVryIA6zJb",
        "outputId": "ebafdbdb-0fb4-422a-cf0c-f32beeb9e156"
      },
      "outputs": [
        {
          "output_type": "stream",
          "name": "stdout",
          "text": [
            "The best R^2 score is 0.844934439801728 achieved by ExtraTreesRegressor.\n"
          ]
        }
      ],
      "source": [
        "best_model_name = None\n",
        "best_r2_score = -float('inf')\n",
        "\n",
        "for model, r2_score in r2_scores_dict.items():\n",
        "    if r2_score > best_r2_score:\n",
        "        best_r2_score = r2_score\n",
        "        best_model_name = model\n",
        "\n",
        "print(f\"The best R^2 score is {best_r2_score} achieved by {best_model_name}.\")\n"
      ]
    },
    {
      "cell_type": "code",
      "execution_count": 97,
      "metadata": {
        "id": "swTVPiNc64Dn"
      },
      "outputs": [],
      "source": []
    }
  ],
  "metadata": {
    "colab": {
      "gpuType": "T4",
      "provenance": []
    },
    "kernelspec": {
      "display_name": "Python 3",
      "name": "python3"
    },
    "language_info": {
      "name": "python"
    }
  },
  "nbformat": 4,
  "nbformat_minor": 0
}